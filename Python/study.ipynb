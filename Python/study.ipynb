{
 "cells": [
  {
   "cell_type": "code",
   "execution_count": 1,
   "id": "fc2f7ea7",
   "metadata": {},
   "outputs": [],
   "source": [
    "from selenium import webdriver\n",
    "from webdriver_manager.chrome import ChromeDriverManager\n",
    "from time import sleep"
   ]
  },
  {
   "cell_type": "code",
   "execution_count": 2,
   "id": "d27e9fd8",
   "metadata": {},
   "outputs": [
    {
     "name": "stderr",
     "output_type": "stream",
     "text": [
      "\n",
      "\n",
      "====== WebDriver manager ======\n",
      "Current google-chrome version is 93.0.4577\n",
      "Get LATEST driver version for 93.0.4577\n",
      "Driver [/Users/katouyuuki/.wdm/drivers/chromedriver/mac64/93.0.4577.63/chromedriver] found in cache\n"
     ]
    }
   ],
   "source": [
    "driver = webdriver.Chrome(ChromeDriverManager().install())"
   ]
  },
  {
   "cell_type": "code",
   "execution_count": 3,
   "id": "aaba4a2b",
   "metadata": {},
   "outputs": [],
   "source": [
    "driver.get('https://www.eigo-duke.com/tango/kou1.html#card')"
   ]
  },
  {
   "cell_type": "code",
   "execution_count": 4,
   "id": "c08359ac",
   "metadata": {},
   "outputs": [],
   "source": [
    "engs = driver.find_elements_by_css_selector('table.table div.eng')\n",
    "japs = driver.find_elements_by_css_selector('table.table div.jap')"
   ]
  },
  {
   "cell_type": "code",
   "execution_count": 5,
   "id": "efdf2fea",
   "metadata": {},
   "outputs": [],
   "source": [
    "# dic[test[0].text] = test1[0].text\n",
    "wordList = {}\n",
    "for (eng, jap) in zip(engs, japs):\n",
    "    wordList[eng.text] = jap.text\n",
    "    "
   ]
  },
  {
   "cell_type": "code",
   "execution_count": 7,
   "id": "3e932f57",
   "metadata": {},
   "outputs": [
    {
     "name": "stdout",
     "output_type": "stream",
     "text": [
      "{'accept': '…を受け入れる', 'achieve': '…を達成する', 'acquire': '…を身につける', 'add': '…を付け加える', 'advance': '前進する／前進，事前', 'affect': '…に影響を与える', 'agree': '同意する，賛成する', 'allow': '…を許可する，…を許す', 'appear': '現れる，…のように思われる', 'apply': '…を適用する，当てはまる', 'approach': '…に近づく', 'argue': '…だと主張する', 'assume': '…を想定する，…とみなす', 'avoid': '…を避ける', 'bear': '…を我慢する', 'beat': '…をうち負かす', 'belong': '属する', 'bite': '…を噛む', 'care': '気にかける／注意，関心', 'catch': '…を捕まえる，間に合う', 'claim': '…を主張する，文句を言う', 'communicate': '意思を伝える，…を伝達する', 'compare': '…を比較する，…をたとえる', 'consider': '…を～だと見なす', 'consume': '…を消費する', 'contact': '…と連絡をとる／接触，連絡', 'contain': '…を含む，…が入っている', 'continue': '…を続ける', 'cost': '…費用として払う，費用', 'count': '重要である，数える', 'cover': '…を覆う，カバー', 'create': '…を作り出す，…を創造する', 'cross': '…を横切る／不機嫌な', 'decline': '…を断る，衰退する／低下，衰退', 'define': '…の意味を明確に述べる', 'depend': '依存する，次第である', 'describe': '…について述べる，…を描写する', 'destroy': '…を破壊する', 'determine': '…を決める', 'develop': '…を発達［発展］させる，発達する', 'die': '死ぬ', 'disappear': '消える', 'discover': '…を発見する', 'draw': '…を引きつける', 'earn': '…を稼ぐ', 'encourage': '…を励ます，…を助長する', 'enter': '…に入る', 'establish': '…を設立する', 'excite': '…を興奮させる', 'exist': '存在する', 'expect': '…を予想する，…を期待する', 'explain': '…を説明する', 'express': '…を表現する', 'face': '…に直面する', 'fail': '失敗する', 'fear': '…を恐れる／恐れ', 'feed': '…に食べ物を与える，…を養う', 'fire': '…を首にする', 'fit': '…に適合する／適した', 'flow': '流れる／流れ', 'follow': '…の後を追う', 'gain': '…を得る／獲得', 'gather': '…を集める，集まる', 'get': '…になる，…を手に入れる', 'guess': '当てずっぽう', 'hit': '…を叩く', 'hold': '…を（一時的に）持っている', 'hunt': '捜し求める', 'hurt': '…を傷つける', 'imagine': '…を想像する', 'improve': '…を改善する', 'include': '…を含む', 'increase': '…を増やす，増える', 'indicate': '…を指し示す', 'influence': '…に影響を及ぼす／影響', 'insist': '要求する，主張する', 'introduce': '…を紹介する，…を導入する', 'invent': '…を発明する', 'involve': '…を含む，…を巻き込む', 'lay': '…を横たえる', 'lead': '…の先頭に立つ，つながる', 'lie': '横たわる，嘘をつく', 'lose': '…を失う，負ける', 'maintain': '…を維持する，…だと主張する', 'manage': '何とかうまくやる，管理を行う', 'manufacture': '製造する', 'marry': '…と結婚する', 'mean': '…を意味する，…を意図する', 'mention': '…について言及する', 'miss': '…に乗り損なう，ミスする', 'observe': '…を観察する，…を遵守する', 'offer': '…を申し出る／申し出', 'perform': '…を行う，機能する', 'please': '…を喜ばせる', 'prefer': '…をより好む', 'prepare': '準備をする，…に準備をさせる', 'press': '…を押す／マスコミ', 'prevent': '…を妨げる', 'produce': '…を生みだす，…を生産する', 'program': '（実施）計画，プログラム', 'protect': '…を守る', 'prove': '…を証明する，…だと判明する', 'provide': '…を［…に］与える', 'publish': '…を出版する', 'raise': '…を上げる', 'reach': '…に到着する，…に手が届く', 'realize': '…だとわかる，…を実現する', 'receive': '…を受け取る', 'recognize': '…がそれ（その人）だとわかる', 'reduce': '…を減らす', 'refer': '言及する，述べる', 'reflect': '…を反映する，熟考する', 'refuse': '…を拒否する', 'regard': '…を～と見なす', 'remain': '…のままである，残る', 'remember': '…を覚えている，…を思い出す', 'reply': '返答する／返答', 'represent': '…を表す，…を代表する', 'require': '…を必要とする', 'reveal': '…を明らかにする', 'rise': '上がる，昇る', 'risk': '危険，…を危険にさらす', 'rule': '…を統治する／規則，習慣', 'satisfy': '…を満足させる', 'save': '…を省く，…を救う，…を貯蓄する', 'search': '…を捜す／探索，捜索', 'seat': '…を着席させる／席', 'seek': '…を求める', 'seem': '…であるようだ', 'serve': '…の役に立つ，…に仕える', 'share': '…を分かち合う', 'solve': '…を解く', 'sound': '…に聞こえる／音', 'spend': '…を費やす', 'spread': '広がる，…を広げる', 'stay': '…のままである，とどまる', 'steal': '…をこっそり盗む', 'stick': 'くっつく，固執する／棒きれ', 'strike': '…に～という印象を与える', 'struggle': 'もがき苦しむ', 'suffer': '苦しむ，…を患う', 'suggest': '…を提案する，…を示唆する', 'support': '…を支持［支援］する／支持，支援', 'suppose': '…だと思う，…だと仮定する', 'surprise': '…を驚かせる／驚き', 'surviv': '（…を切り抜け）生き残る', 'tend': '…する傾向がある', 'treat': '…を扱う', 'vary': 'さまざまである', 'waste': '…を浪費する／浪費，廃棄物', 'wear': '…を身につけている', 'win': '勝つ，…を勝ち取る', 'wonder': '…かなと思う／驚き', 'worry': '…心配させる', 'activity': '動作，行動', 'advantage': '有利，利点', 'aid': '援助／…を助ける', 'amount': '量，額', 'area': '地域，面積', 'arms': '武器，兵器', 'aspect': '局面', 'atmosphere': '雰囲気', 'attempt': '試み／…を試みる', 'attitude': '考え方，態度', 'audience': '聴衆，観客，視聴者', 'basis': '土台，基礎', 'behavior': '行動，振る舞い', 'benefit': '利益／…に利益をもたらす', 'bill': '請求書，紙幣，法案', 'birth': '誕生', 'blood': '血', 'brain': '頭脳', 'case': '場合，事例', 'cause': '原因／…の原因となる，', 'challenge': '挑戦，難題／…に異議を唱える', 'chance': '機会，可能性，偶然', 'character': '性格，特質', 'choice': '選択（肢）', 'civilization': '文明', 'class': '階級，等級，授業，学級', 'clerk': '事務員', 'communication': 'コミュニケーション，意思の伝達', 'community': '共同社会', 'company': '会社，仲間', 'competition': '競争，競争相手', 'content': '中身，目次／満足して', 'control': '支配，制御／…を支配［制御］する', 'crowd': '群衆，人混み', 'culture': '文化', 'customer': '顧客', 'damage': '損害／…に損害を与える', 'degree': '程度，度', 'demand': '要求，需要／…を要求する', 'desire': '願望／…を強く望む', 'detail': '詳細', 'development': '発展，発達', 'difference': '違い', 'difficulty': '困難，苦労', 'direction': '方向，方角', 'disease': '病気', 'distance': '距離', 'doubt': '疑い／…を疑う', 'economy': '経済', 'education': '教育', 'effect': '効果，影響，結果', 'environment': '環境', 'event': '出来事，行事', 'evidence': '証拠', 'exchange': '交換／…を交換する', 'exercise': '運動，練習／運動をする', 'experience': '経験／…を経験する', 'experiment': '実験', 'expression': '表現', 'fact': '事実', 'factor': '要因，要素', 'failure': '失敗，失敗作，失敗者', 'feature': '特徴／…を目玉とする', 'field': '分野，領域，野原，畑', 'figure': '数字，姿，人物', 'force': '力／…を［に］強制する', 'form': '形態／…を形成する', 'freedom': '自由', 'generation': '世代', 'god': '神', 'government': '政府，統治', 'growth': '成長', 'habit': '（個人の）習慣，癖', 'history': '歴史', 'idea': '考え，思いつき', 'industry': '産業，工業', 'information': '情報', 'issue': '問題，（雑誌などの）号／', 'kid': '子供／（…を）からかう', 'knowledge': '知識', 'labor': '労働', 'lack': '不足，欠落／…がない', 'language': 'ことば，言語', 'law': '法律，法則', 'level': 'レベル，水準，程度', 'life': '生活，人生，生命', 'limit': '限度，制限／…を制限する', 'line': '行，列', 'literature': '文学', 'loss': '失うこと，損失', 'majority': '大多数，大半', 'mark': 'しるし，（試験の）点数', 'market': '市場', 'mass': '塊，集団，大衆', 'material': '材料，原料／物質（的）な', 'meal': '食事', 'measure': '措置，測るもの／…を測る', 'method': '方法', 'million': '百万', 'mind': 'アタマ，思考／…を嫌がる', 'mistake': '誤り／…を～と間違える', 'moment': '瞬間，時', 'most': '大半／最も…', 'movement': '動き，（政治的・社会的）運動', 'nation': '国家，民族，国民', 'nature': '自然，性質', 'note': 'メモ／…に注目［注意］する', 'object': '物体，対象，目的／反対する', 'office': '会社，仕事部屋，公職の地位', 'opinion': '意見', 'opportunity': '機会', 'order': '命令，秩序／…に命じる，…を注文する', 'paper': '新聞，書類，レポート，論文', 'party': '政党，当事者', 'period': '期間，時代', 'phone': '電話／…に電話をかける', 'place': '場所／…を置く', 'plant': '植物', 'pleasure': '楽しみ，喜び', 'policy': '政策，方針', 'population': '人口，国民', 'position': '位置，立場，地位', 'power': '力，権力，大国', 'practice': '練習，慣習，実行', 'president': '社長，大統領，学長', 'price': '値段', 'principle': '原理・原則，主義', 'problem': '問題', 'process': '過程／…を加工処理する', 'product': '製品，産物', 'production': '生産，製造', 'progress': '進歩', 'purpose': '目的', 'quality': '質', 'range': '範囲／範囲が及ぶ', 'rate': '率，割合', 'reality': '現実', 'reason': '理由，理性', 'relation': '関係性', 'relationship': '関係', 'research': '研究，調査', 'respect': '尊敬，尊重，点／…を尊敬する', 'response': '反応，返答', 'rest': '休憩，その他／休憩する', 'result': '結果', 'science': '科学', 'sense': '感覚，意味', 'shape': '形／…を形作る', 'side': '側面，側', 'sign': '兆候／…に署名をする', 'situation': '状況，情勢', 'skill': '技能', 'society': '社会', 'sort': '種類', 'species': '（動植物の）種', 'speech': '話，スピーチ，演説', 'stage': '段階，舞台', 'standard': '標準，基準', 'state': '状態，国家，州', 'step': '措置，歩み', 'stranger': '見知らぬ人，（ある場所に）初めて来た人', 'stress': '強調，重圧／…を強調する', 'structure': '構造', 'subject': '話題，主題', 'success': '成功，成功したもの［人］', 'supply': '供給／…に供給する', 'surface': '表面', 'system': '体制，体系，組織', 'task': '仕事，作業', 'taste': '味／…な味がする', 'technology': 'テクノロジー，科学技術', 'temperature': '温度，体温', 'term': '期間，学期，用語，条件，間柄', 'theory': '理論', 'trade': '貿易，…を交換する', 'traffic': '交通，往来／交通の', 'truth': '真実', 'universe': '宇宙', 'university': '大学', 'value': '価値／…を重んじる', 'variety': '多様', 'view': '眺め，見方／…を見る，', 'war': '戦争', 'weather': '気候，天気', 'weight': '重さ，体重', 'afraid': '心配して，怖がって', 'ancient': '古代の，大昔の', 'available': '利用できる，人の手があいている', 'average': '平均の／平均', 'aware': '気づいている', 'basic': '基本的な，基礎的な', 'certain': 'ある…，確信している', 'close': '近い，親密な', 'common': '一般的な，共通の', 'complete': '完全な', 'complex': '複雑な', 'concerned': '関わっている，心配している', 'correct': '正確な／…を訂正する', 'direct': '直接の', 'dressed': '服を身につけた', 'due': '行われる［到着する］予定の／納期', 'economic': '経済の，経済的な', 'environmental': '環境の', 'equal': '等しい／…に等しい', 'essential': '不可欠な', 'expensive': '値段が高い', 'familiar': '馴染みのある', 'famous': '有名な', 'foreign': '外国の', 'free': '自由な，無料の，暇な', 'full': 'いっぱいの，満腹である', 'general': '一般的な，全般的な', 'healthy': '健康（的）な', 'heavy': '重い，大量の', 'huge': '巨大な', 'human': '人間の／人間', 'impossible': '不可能な，だめな', 'individual': '個人の，個々の／個人', 'industrial': '産業の，工業の', 'international': '国際的な', 'likely': '起こりそうな，可能性が高い', 'local': '地元の', 'major': '主な，大きな／専攻する', 'married': '結婚した，既婚の', 'medical': '医学の，医療の', 'mental': '精神の，知的な', 'modern': '現代の，近代の', 'national': '国の，国立の', 'native': '生まれ故郷の，生来の', 'natural': '当然の，自然の', 'necessary': '必要な', 'obvious': '明白な', 'ordinary': '普通の', 'original': '当初の／原文', 'own': '自身の／…を所有している', 'particular': '特定の，特にその，気むずかしい', 'past': '過去の／過去', 'personal': '個人的な，個人の', 'physical': '身体の，物理的な', 'political': '政治の，政治的な', 'popular': '人気のある，大衆の', 'possible': '可能な', 'practical': '実用的な，実際的な', 'present': '出席している，現在の', 'private': '個人的な，私的な', 'professional': '専門職の／専門職の人', 'public': '公共の／大衆', 'recent': '最近の', 'related': '関係している，関連した', 'right': '正しい／権利', 'round': '丸い', 'scientific': '科学の', 'separate': '分離した／…を切り離す', 'serious': '真剣な，深刻な', 'similar': 'よく似た', 'single': '一つの，一人の，独身の', 'social': '社会の，社交の', 'special': '特別な', 'strange': '奇妙な，見知らぬ', 'sure': '確信して，確実な', 'thick': '厚い', 'traditional': '伝統的な', 'useful': '役に立つ', 'various': 'さまざまな', 'vast': '非常に大きな', 'whole': '…の全て，全体の', 'wrong': '間違った', 'abroad': '外国で，外国へ', 'actually': '実際に，現実に', 'badly': 'ひどく，悪く', 'especially': '特に', 'eventually': '最終的には', 'exactly': '正確［厳密］に，ちょうど', 'extremely': '極端に', 'forward': '前方へ', 'frequently': '頻繁に', 'generally': '一般的に', 'highly': 'とても，高く', 'however': 'しかしながら', 'immediately': '即座に', 'indeed': '確かに', 'later': '後に，…後', 'maybe': 'たぶん，五分五分で', 'merely': '単に', 'naturally': '当然，自然に', 'otherwise': 'さもなければ，それとは違うように', 'particularly': '特に', 'pretty': 'かなり', 'probably': 'おそらく', 'quite': 'かなり，全く', 'recently': '最近', 'simply': '単に', 'therefore': 'それゆえ', 'although': '…だけれども', 'unless': '…でない限り（原則として）', 'while': '…である一方で，…している間に', 'except': '…を除いて', 'toward': '…に向かって', 'worth': '…の価値がある', 'behind': '…の背後に／背後に'}\n"
     ]
    }
   ],
   "source": [
    "print(wordList)"
   ]
  },
  {
   "cell_type": "code",
   "execution_count": null,
   "id": "4a5b142d",
   "metadata": {},
   "outputs": [],
   "source": []
  },
  {
   "cell_type": "code",
   "execution_count": null,
   "id": "e2c376ec",
   "metadata": {},
   "outputs": [],
   "source": []
  }
 ],
 "metadata": {
  "kernelspec": {
   "display_name": "Python 3",
   "language": "python",
   "name": "python3"
  },
  "language_info": {
   "codemirror_mode": {
    "name": "ipython",
    "version": 3
   },
   "file_extension": ".py",
   "mimetype": "text/x-python",
   "name": "python",
   "nbconvert_exporter": "python",
   "pygments_lexer": "ipython3",
   "version": "3.8.8"
  }
 },
 "nbformat": 4,
 "nbformat_minor": 5
}
